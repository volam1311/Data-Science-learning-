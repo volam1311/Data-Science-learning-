{
 "cells": [
  {
   "cell_type": "code",
   "execution_count": 1,
   "id": "9bb60a21",
   "metadata": {},
   "outputs": [],
   "source": [
    "import spacy"
   ]
  },
  {
   "cell_type": "code",
   "execution_count": null,
   "id": "05011e07",
   "metadata": {},
   "outputs": [],
   "source": [
    "nlp = spacy.load('en_core_web_sm')"
   ]
  },
  {
   "cell_type": "code",
   "execution_count": 3,
   "id": "02e6e8e8",
   "metadata": {},
   "outputs": [
    {
     "data": {
      "text/plain": [
       "['tok2vec', 'tagger', 'parser', 'attribute_ruler', 'lemmatizer', 'ner']"
      ]
     },
     "execution_count": 3,
     "metadata": {},
     "output_type": "execute_result"
    }
   ],
   "source": [
    "nlp.pipe_names"
   ]
  },
  {
   "cell_type": "code",
   "execution_count": 8,
   "id": "5746708f",
   "metadata": {},
   "outputs": [
    {
     "name": "stdout",
     "output_type": "stream",
     "text": [
      "Meta | ORG | Companies, agencies, institutions, etc.\n"
     ]
    }
   ],
   "source": [
    "text = nlp(\"I am going to open a big tech company like Meta soon.\")\n",
    "\n",
    "for ent in text.ents:\n",
    "    print(ent.text, '|', ent.label_,'|',spacy.explain(ent.label_))"
   ]
  },
  {
   "cell_type": "code",
   "execution_count": 9,
   "id": "0f5b86fc",
   "metadata": {},
   "outputs": [
    {
     "name": "stdout",
     "output_type": "stream",
     "text": [
      "GitHub | ORG | Companies, agencies, institutions, etc.\n",
      "Microsoft | ORG | Companies, agencies, institutions, etc.\n",
      "seven billion dollar | MONEY | Monetary values, including unit\n"
     ]
    }
   ],
   "source": [
    "text_1 = nlp(\"GitHub is acquired by Microsoft for seven billion dollar\")\n",
    "\n",
    "for ent in text_1.ents:\n",
    "    print(ent.text, '|', ent.label_,'|',spacy.explain(ent.label_))"
   ]
  },
  {
   "cell_type": "code",
   "execution_count": 19,
   "id": "97ed3433",
   "metadata": {},
   "outputs": [
    {
     "data": {
      "text/html": [
       "<div class=\"entities\" style=\"line-height: 2.5; direction: ltr\">I am going to open a big tech company like \n",
       "<mark class=\"entity\" style=\"background: #7aecec; padding: 0.45em 0.6em; margin: 0 0.25em; line-height: 1; border-radius: 0.35em;\">\n",
       "    Meta\n",
       "    <span style=\"font-size: 0.8em; font-weight: bold; line-height: 1; border-radius: 0.35em; vertical-align: middle; margin-left: 0.5rem\">ORG</span>\n",
       "</mark>\n",
       " soon.</div>"
      ],
      "text/plain": [
       "<IPython.core.display.HTML object>"
      ]
     },
     "metadata": {},
     "output_type": "display_data"
    },
    {
     "name": "stdout",
     "output_type": "stream",
     "text": [
      "None\n"
     ]
    }
   ],
   "source": [
    "from spacy import displacy\n",
    "from IPython.display import HTML, display\n",
    "text = nlp(\"I am going to open a big tech company like Meta soon.\")\n",
    "result = displacy.render(text,style='ent',jupyter=False)\n",
    "print(display(HTML(result)))"
   ]
  },
  {
   "cell_type": "code",
   "execution_count": 20,
   "id": "d4d8e435",
   "metadata": {},
   "outputs": [
    {
     "data": {
      "text/plain": [
       "{'tok2vec': [],\n",
       " 'tagger': ['$',\n",
       "  \"''\",\n",
       "  ',',\n",
       "  '-LRB-',\n",
       "  '-RRB-',\n",
       "  '.',\n",
       "  ':',\n",
       "  'ADD',\n",
       "  'AFX',\n",
       "  'CC',\n",
       "  'CD',\n",
       "  'DT',\n",
       "  'EX',\n",
       "  'FW',\n",
       "  'HYPH',\n",
       "  'IN',\n",
       "  'JJ',\n",
       "  'JJR',\n",
       "  'JJS',\n",
       "  'LS',\n",
       "  'MD',\n",
       "  'NFP',\n",
       "  'NN',\n",
       "  'NNP',\n",
       "  'NNPS',\n",
       "  'NNS',\n",
       "  'PDT',\n",
       "  'POS',\n",
       "  'PRP',\n",
       "  'PRP$',\n",
       "  'RB',\n",
       "  'RBR',\n",
       "  'RBS',\n",
       "  'RP',\n",
       "  'SYM',\n",
       "  'TO',\n",
       "  'UH',\n",
       "  'VB',\n",
       "  'VBD',\n",
       "  'VBG',\n",
       "  'VBN',\n",
       "  'VBP',\n",
       "  'VBZ',\n",
       "  'WDT',\n",
       "  'WP',\n",
       "  'WP$',\n",
       "  'WRB',\n",
       "  'XX',\n",
       "  '_SP',\n",
       "  '``'],\n",
       " 'parser': ['ROOT',\n",
       "  'acl',\n",
       "  'acomp',\n",
       "  'advcl',\n",
       "  'advmod',\n",
       "  'agent',\n",
       "  'amod',\n",
       "  'appos',\n",
       "  'attr',\n",
       "  'aux',\n",
       "  'auxpass',\n",
       "  'case',\n",
       "  'cc',\n",
       "  'ccomp',\n",
       "  'compound',\n",
       "  'conj',\n",
       "  'csubj',\n",
       "  'csubjpass',\n",
       "  'dative',\n",
       "  'dep',\n",
       "  'det',\n",
       "  'dobj',\n",
       "  'expl',\n",
       "  'intj',\n",
       "  'mark',\n",
       "  'meta',\n",
       "  'neg',\n",
       "  'nmod',\n",
       "  'npadvmod',\n",
       "  'nsubj',\n",
       "  'nsubjpass',\n",
       "  'nummod',\n",
       "  'oprd',\n",
       "  'parataxis',\n",
       "  'pcomp',\n",
       "  'pobj',\n",
       "  'poss',\n",
       "  'preconj',\n",
       "  'predet',\n",
       "  'prep',\n",
       "  'prt',\n",
       "  'punct',\n",
       "  'quantmod',\n",
       "  'relcl',\n",
       "  'xcomp'],\n",
       " 'attribute_ruler': [],\n",
       " 'lemmatizer': [],\n",
       " 'ner': ['CARDINAL',\n",
       "  'DATE',\n",
       "  'EVENT',\n",
       "  'FAC',\n",
       "  'GPE',\n",
       "  'LANGUAGE',\n",
       "  'LAW',\n",
       "  'LOC',\n",
       "  'MONEY',\n",
       "  'NORP',\n",
       "  'ORDINAL',\n",
       "  'ORG',\n",
       "  'PERCENT',\n",
       "  'PERSON',\n",
       "  'PRODUCT',\n",
       "  'QUANTITY',\n",
       "  'TIME',\n",
       "  'WORK_OF_ART']}"
      ]
     },
     "execution_count": 20,
     "metadata": {},
     "output_type": "execute_result"
    }
   ],
   "source": [
    "nlp.pipe_labels"
   ]
  },
  {
   "cell_type": "markdown",
   "id": "33199cb4",
   "metadata": {},
   "source": [
    "### Setting our own spacy entity"
   ]
  },
  {
   "cell_type": "code",
   "execution_count": 22,
   "id": "af4f5c66",
   "metadata": {},
   "outputs": [
    {
     "name": "stdout",
     "output_type": "stream",
     "text": [
      "GitHub  |  ORG\n",
      "Microsoft  |  ORG\n",
      "$7 billion  |  MONEY\n"
     ]
    }
   ],
   "source": [
    "docs = nlp(\"GitHub is acquired by Microsoft for $7 billion\")\n",
    "for ent in docs.ents:\n",
    "    print(ent.text,' | ',ent.label_)"
   ]
  },
  {
   "cell_type": "code",
   "execution_count": 24,
   "id": "cc2dd100",
   "metadata": {},
   "outputs": [
    {
     "data": {
      "text/plain": [
       "acquired by"
      ]
     },
     "execution_count": 24,
     "metadata": {},
     "output_type": "execute_result"
    }
   ],
   "source": [
    "s = docs[2:4]\n",
    "s"
   ]
  },
  {
   "cell_type": "code",
   "execution_count": 25,
   "id": "b3a29e61",
   "metadata": {},
   "outputs": [
    {
     "data": {
      "text/plain": [
       "spacy.tokens.span.Span"
      ]
     },
     "execution_count": 25,
     "metadata": {},
     "output_type": "execute_result"
    }
   ],
   "source": [
    "type(s)"
   ]
  },
  {
   "cell_type": "code",
   "execution_count": 27,
   "id": "ac0f9fb6",
   "metadata": {},
   "outputs": [],
   "source": [
    "from spacy.tokens import Span\n",
    "s1 = Span(docs,0,1,label='ORG')\n",
    "s2 = Span(docs,4,5,label='ORG')\n",
    "docs.set_ents([s1,s2],default='unmodified')"
   ]
  },
  {
   "cell_type": "code",
   "execution_count": 28,
   "id": "efdea64c",
   "metadata": {},
   "outputs": [
    {
     "name": "stdout",
     "output_type": "stream",
     "text": [
      "GitHub | ORG\n",
      "Microsoft | ORG\n",
      "$7 billion | MONEY\n"
     ]
    }
   ],
   "source": [
    "for ent in docs.ents:\n",
    "    print(ent.text, '|', ent.label_)"
   ]
  }
 ],
 "metadata": {
  "kernelspec": {
   "display_name": ".venv",
   "language": "python",
   "name": "python3"
  },
  "language_info": {
   "codemirror_mode": {
    "name": "ipython",
    "version": 3
   },
   "file_extension": ".py",
   "mimetype": "text/x-python",
   "name": "python",
   "nbconvert_exporter": "python",
   "pygments_lexer": "ipython3",
   "version": "3.12.7"
  }
 },
 "nbformat": 4,
 "nbformat_minor": 5
}
