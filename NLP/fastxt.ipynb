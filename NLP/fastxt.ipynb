{
 "cells": [
  {
   "cell_type": "code",
   "execution_count": 1,
   "id": "6077faf9",
   "metadata": {},
   "outputs": [],
   "source": [
    "import fasttext\n",
    "import pandas as pd\n",
    "import numpy as np\n",
    "import re"
   ]
  },
  {
   "cell_type": "markdown",
   "id": "cb97ad02",
   "metadata": {},
   "source": [
    "You can download the dataset here: https://www.kaggle.com/datasets/sharathkumarerla/all-recipies-dataset?resource=download"
   ]
  },
  {
   "cell_type": "code",
   "execution_count": 2,
   "id": "63e07427",
   "metadata": {},
   "outputs": [],
   "source": [
    "data = pd.read_csv('all_recipies.csv')"
   ]
  },
  {
   "cell_type": "code",
   "execution_count": 3,
   "id": "3d9df343",
   "metadata": {},
   "outputs": [
    {
     "data": {
      "text/html": [
       "<div>\n",
       "<style scoped>\n",
       "    .dataframe tbody tr th:only-of-type {\n",
       "        vertical-align: middle;\n",
       "    }\n",
       "\n",
       "    .dataframe tbody tr th {\n",
       "        vertical-align: top;\n",
       "    }\n",
       "\n",
       "    .dataframe thead th {\n",
       "        text-align: right;\n",
       "    }\n",
       "</style>\n",
       "<table border=\"1\" class=\"dataframe\">\n",
       "  <thead>\n",
       "    <tr style=\"text-align: right;\">\n",
       "      <th></th>\n",
       "      <th>recipe_name</th>\n",
       "      <th>rating</th>\n",
       "      <th>reviews</th>\n",
       "      <th>description</th>\n",
       "      <th>published_date</th>\n",
       "      <th>prep_time</th>\n",
       "      <th>cook_time</th>\n",
       "      <th>total_time</th>\n",
       "      <th>servings</th>\n",
       "      <th>calories</th>\n",
       "      <th>fat</th>\n",
       "      <th>carbs</th>\n",
       "      <th>protein</th>\n",
       "    </tr>\n",
       "  </thead>\n",
       "  <tbody>\n",
       "    <tr>\n",
       "      <th>0</th>\n",
       "      <td>Air Fryer Ham and Cheese Wraps</td>\n",
       "      <td>NaN</td>\n",
       "      <td>0</td>\n",
       "      <td>These air fryer ham and cheese wraps couldn’t ...</td>\n",
       "      <td>Published on October 23, 2023</td>\n",
       "      <td>4 mins</td>\n",
       "      <td>6 mins</td>\n",
       "      <td>10 mins</td>\n",
       "      <td>2</td>\n",
       "      <td>612.0</td>\n",
       "      <td>33g</td>\n",
       "      <td>57g</td>\n",
       "      <td>22g</td>\n",
       "    </tr>\n",
       "    <tr>\n",
       "      <th>1</th>\n",
       "      <td>Air Fryer New York Strip Steak</td>\n",
       "      <td>NaN</td>\n",
       "      <td>0</td>\n",
       "      <td>These New York strip steaks were quite good, d...</td>\n",
       "      <td>Published on August 3, 2023</td>\n",
       "      <td>5 mins</td>\n",
       "      <td>10 mins</td>\n",
       "      <td>30 mins</td>\n",
       "      <td>10 mins</td>\n",
       "      <td>704.0</td>\n",
       "      <td>50g</td>\n",
       "      <td>0g</td>\n",
       "      <td>59g</td>\n",
       "    </tr>\n",
       "    <tr>\n",
       "      <th>2</th>\n",
       "      <td>Air Fryer Crispy Beef and Broccoli</td>\n",
       "      <td>4.4</td>\n",
       "      <td>4 Reviews</td>\n",
       "      <td>Use your air fryer for this crispy beef and br...</td>\n",
       "      <td>Published on June 21, 2023</td>\n",
       "      <td>20 mins</td>\n",
       "      <td>10 mins</td>\n",
       "      <td>30 mins</td>\n",
       "      <td>4</td>\n",
       "      <td>521.0</td>\n",
       "      <td>22g</td>\n",
       "      <td>45g</td>\n",
       "      <td>37g</td>\n",
       "    </tr>\n",
       "    <tr>\n",
       "      <th>3</th>\n",
       "      <td>Air Fryer Pecan Crusted Trout</td>\n",
       "      <td>NaN</td>\n",
       "      <td>0</td>\n",
       "      <td>This pecan crusted trout cooked in the air fry...</td>\n",
       "      <td>Published on June 21, 2023</td>\n",
       "      <td>10 mins</td>\n",
       "      <td>10 mins</td>\n",
       "      <td>20 mins</td>\n",
       "      <td>4</td>\n",
       "      <td>387.0</td>\n",
       "      <td>24g</td>\n",
       "      <td>9g</td>\n",
       "      <td>34g</td>\n",
       "    </tr>\n",
       "    <tr>\n",
       "      <th>4</th>\n",
       "      <td>Air Fryer Everything-Bagel Salmon Dinner</td>\n",
       "      <td>4.0</td>\n",
       "      <td>1 Review</td>\n",
       "      <td>Salmon fillets are flavored with everything ba...</td>\n",
       "      <td>Published on June 21, 2023</td>\n",
       "      <td>15 mins</td>\n",
       "      <td>20 mins</td>\n",
       "      <td>35 mins</td>\n",
       "      <td>2</td>\n",
       "      <td>589.0</td>\n",
       "      <td>32g</td>\n",
       "      <td>33g</td>\n",
       "      <td>43g</td>\n",
       "    </tr>\n",
       "  </tbody>\n",
       "</table>\n",
       "</div>"
      ],
      "text/plain": [
       "                                recipe_name  rating    reviews  \\\n",
       "0            Air Fryer Ham and Cheese Wraps     NaN          0   \n",
       "1            Air Fryer New York Strip Steak     NaN          0   \n",
       "2        Air Fryer Crispy Beef and Broccoli     4.4  4 Reviews   \n",
       "3             Air Fryer Pecan Crusted Trout     NaN          0   \n",
       "4  Air Fryer Everything-Bagel Salmon Dinner     4.0   1 Review   \n",
       "\n",
       "                                         description  \\\n",
       "0  These air fryer ham and cheese wraps couldn’t ...   \n",
       "1  These New York strip steaks were quite good, d...   \n",
       "2  Use your air fryer for this crispy beef and br...   \n",
       "3  This pecan crusted trout cooked in the air fry...   \n",
       "4  Salmon fillets are flavored with everything ba...   \n",
       "\n",
       "                  published_date prep_time cook_time total_time servings  \\\n",
       "0  Published on October 23, 2023    4 mins    6 mins    10 mins        2   \n",
       "1    Published on August 3, 2023    5 mins   10 mins    30 mins  10 mins   \n",
       "2     Published on June 21, 2023   20 mins   10 mins    30 mins        4   \n",
       "3     Published on June 21, 2023   10 mins   10 mins    20 mins        4   \n",
       "4     Published on June 21, 2023   15 mins   20 mins    35 mins        2   \n",
       "\n",
       "   calories  fat carbs protein  \n",
       "0     612.0  33g   57g     22g  \n",
       "1     704.0  50g    0g     59g  \n",
       "2     521.0  22g   45g     37g  \n",
       "3     387.0  24g    9g     34g  \n",
       "4     589.0  32g   33g     43g  "
      ]
     },
     "execution_count": 3,
     "metadata": {},
     "output_type": "execute_result"
    }
   ],
   "source": [
    "data.head()"
   ]
  },
  {
   "cell_type": "code",
   "execution_count": 4,
   "id": "86f04846",
   "metadata": {},
   "outputs": [
    {
     "data": {
      "text/plain": [
       "\"These air fryer ham and cheese wraps couldn’t get any easier, and all with only 5 ingredients. Think ham and melty cheese nestled in a warm and toasty tortilla. It's just the two of us and my air fryer basket is small, so I wrote this up for 2 servings, but the recipe can easily be doubled if you have a large air fryer or want to work in batches.\""
      ]
     },
     "execution_count": 4,
     "metadata": {},
     "output_type": "execute_result"
    }
   ],
   "source": [
    "data['description'][0]"
   ]
  },
  {
   "cell_type": "code",
   "execution_count": 5,
   "id": "6e66ea8c",
   "metadata": {},
   "outputs": [],
   "source": [
    "def preprocess(text):\n",
    "    text = re.sub(r'[\\.,;]',' ',text)\n",
    "    return text.strip().lower()"
   ]
  },
  {
   "cell_type": "code",
   "execution_count": 6,
   "id": "c3425422",
   "metadata": {},
   "outputs": [],
   "source": [
    "data['description'] = data['description'].map(preprocess)"
   ]
  },
  {
   "cell_type": "code",
   "execution_count": 7,
   "id": "4bbb4c25",
   "metadata": {},
   "outputs": [
    {
     "data": {
      "text/html": [
       "<div>\n",
       "<style scoped>\n",
       "    .dataframe tbody tr th:only-of-type {\n",
       "        vertical-align: middle;\n",
       "    }\n",
       "\n",
       "    .dataframe tbody tr th {\n",
       "        vertical-align: top;\n",
       "    }\n",
       "\n",
       "    .dataframe thead th {\n",
       "        text-align: right;\n",
       "    }\n",
       "</style>\n",
       "<table border=\"1\" class=\"dataframe\">\n",
       "  <thead>\n",
       "    <tr style=\"text-align: right;\">\n",
       "      <th></th>\n",
       "      <th>recipe_name</th>\n",
       "      <th>rating</th>\n",
       "      <th>reviews</th>\n",
       "      <th>description</th>\n",
       "      <th>published_date</th>\n",
       "      <th>prep_time</th>\n",
       "      <th>cook_time</th>\n",
       "      <th>total_time</th>\n",
       "      <th>servings</th>\n",
       "      <th>calories</th>\n",
       "      <th>fat</th>\n",
       "      <th>carbs</th>\n",
       "      <th>protein</th>\n",
       "    </tr>\n",
       "  </thead>\n",
       "  <tbody>\n",
       "    <tr>\n",
       "      <th>0</th>\n",
       "      <td>Air Fryer Ham and Cheese Wraps</td>\n",
       "      <td>NaN</td>\n",
       "      <td>0</td>\n",
       "      <td>these air fryer ham and cheese wraps couldn’t ...</td>\n",
       "      <td>Published on October 23, 2023</td>\n",
       "      <td>4 mins</td>\n",
       "      <td>6 mins</td>\n",
       "      <td>10 mins</td>\n",
       "      <td>2</td>\n",
       "      <td>612.0</td>\n",
       "      <td>33g</td>\n",
       "      <td>57g</td>\n",
       "      <td>22g</td>\n",
       "    </tr>\n",
       "    <tr>\n",
       "      <th>1</th>\n",
       "      <td>Air Fryer New York Strip Steak</td>\n",
       "      <td>NaN</td>\n",
       "      <td>0</td>\n",
       "      <td>these new york strip steaks were quite good  d...</td>\n",
       "      <td>Published on August 3, 2023</td>\n",
       "      <td>5 mins</td>\n",
       "      <td>10 mins</td>\n",
       "      <td>30 mins</td>\n",
       "      <td>10 mins</td>\n",
       "      <td>704.0</td>\n",
       "      <td>50g</td>\n",
       "      <td>0g</td>\n",
       "      <td>59g</td>\n",
       "    </tr>\n",
       "    <tr>\n",
       "      <th>2</th>\n",
       "      <td>Air Fryer Crispy Beef and Broccoli</td>\n",
       "      <td>4.4</td>\n",
       "      <td>4 Reviews</td>\n",
       "      <td>use your air fryer for this crispy beef and br...</td>\n",
       "      <td>Published on June 21, 2023</td>\n",
       "      <td>20 mins</td>\n",
       "      <td>10 mins</td>\n",
       "      <td>30 mins</td>\n",
       "      <td>4</td>\n",
       "      <td>521.0</td>\n",
       "      <td>22g</td>\n",
       "      <td>45g</td>\n",
       "      <td>37g</td>\n",
       "    </tr>\n",
       "    <tr>\n",
       "      <th>3</th>\n",
       "      <td>Air Fryer Pecan Crusted Trout</td>\n",
       "      <td>NaN</td>\n",
       "      <td>0</td>\n",
       "      <td>this pecan crusted trout cooked in the air fry...</td>\n",
       "      <td>Published on June 21, 2023</td>\n",
       "      <td>10 mins</td>\n",
       "      <td>10 mins</td>\n",
       "      <td>20 mins</td>\n",
       "      <td>4</td>\n",
       "      <td>387.0</td>\n",
       "      <td>24g</td>\n",
       "      <td>9g</td>\n",
       "      <td>34g</td>\n",
       "    </tr>\n",
       "    <tr>\n",
       "      <th>4</th>\n",
       "      <td>Air Fryer Everything-Bagel Salmon Dinner</td>\n",
       "      <td>4.0</td>\n",
       "      <td>1 Review</td>\n",
       "      <td>salmon fillets are flavored with everything ba...</td>\n",
       "      <td>Published on June 21, 2023</td>\n",
       "      <td>15 mins</td>\n",
       "      <td>20 mins</td>\n",
       "      <td>35 mins</td>\n",
       "      <td>2</td>\n",
       "      <td>589.0</td>\n",
       "      <td>32g</td>\n",
       "      <td>33g</td>\n",
       "      <td>43g</td>\n",
       "    </tr>\n",
       "    <tr>\n",
       "      <th>...</th>\n",
       "      <td>...</td>\n",
       "      <td>...</td>\n",
       "      <td>...</td>\n",
       "      <td>...</td>\n",
       "      <td>...</td>\n",
       "      <td>...</td>\n",
       "      <td>...</td>\n",
       "      <td>...</td>\n",
       "      <td>...</td>\n",
       "      <td>...</td>\n",
       "      <td>...</td>\n",
       "      <td>...</td>\n",
       "      <td>...</td>\n",
       "    </tr>\n",
       "    <tr>\n",
       "      <th>76190</th>\n",
       "      <td>Low-Fat Chocolate Zucchini Mini Muffins</td>\n",
       "      <td>3.0</td>\n",
       "      <td>1 Review</td>\n",
       "      <td>a sweet snack your kids will gobble up and you...</td>\n",
       "      <td>Updated on January 14, 2022</td>\n",
       "      <td>20 mins</td>\n",
       "      <td>16 mins</td>\n",
       "      <td>36 mins</td>\n",
       "      <td>48</td>\n",
       "      <td>57.0</td>\n",
       "      <td>1g</td>\n",
       "      <td>12g</td>\n",
       "      <td>1g</td>\n",
       "    </tr>\n",
       "    <tr>\n",
       "      <th>76191</th>\n",
       "      <td>Vegan Zucchini Bread Muffins</td>\n",
       "      <td>4.3</td>\n",
       "      <td>2 Reviews</td>\n",
       "      <td>modified an old recipe and cut 1/2 the sugar a...</td>\n",
       "      <td>Published on April 4, 2019</td>\n",
       "      <td>25 mins</td>\n",
       "      <td>50 mins</td>\n",
       "      <td>1 hr 15 mins</td>\n",
       "      <td>24</td>\n",
       "      <td>133.0</td>\n",
       "      <td>4g</td>\n",
       "      <td>24g</td>\n",
       "      <td>2g</td>\n",
       "    </tr>\n",
       "    <tr>\n",
       "      <th>76192</th>\n",
       "      <td>Apple Cinnamon Zucchini Muffins</td>\n",
       "      <td>4.6</td>\n",
       "      <td>92 Reviews</td>\n",
       "      <td>i had apples and zucchini that were just beggi...</td>\n",
       "      <td>Updated on June 26, 2023</td>\n",
       "      <td>15 mins</td>\n",
       "      <td>25 mins</td>\n",
       "      <td>40 mins</td>\n",
       "      <td>24</td>\n",
       "      <td>153.0</td>\n",
       "      <td>7g</td>\n",
       "      <td>21g</td>\n",
       "      <td>2g</td>\n",
       "    </tr>\n",
       "    <tr>\n",
       "      <th>76193</th>\n",
       "      <td>Chocolate Zucchini Muffins</td>\n",
       "      <td>4.5</td>\n",
       "      <td>203 Reviews</td>\n",
       "      <td>these chocolate zucchini muffins are a wonderf...</td>\n",
       "      <td>Updated on May 23, 2023</td>\n",
       "      <td>15 mins</td>\n",
       "      <td>20 mins</td>\n",
       "      <td>35 mins</td>\n",
       "      <td>24</td>\n",
       "      <td>217.0</td>\n",
       "      <td>10g</td>\n",
       "      <td>30g</td>\n",
       "      <td>3g</td>\n",
       "    </tr>\n",
       "    <tr>\n",
       "      <th>76194</th>\n",
       "      <td>Zucchini-Chocolate Chip Muffins</td>\n",
       "      <td>4.8</td>\n",
       "      <td>795 Reviews</td>\n",
       "      <td>these zucchini muffins are packed with shredde...</td>\n",
       "      <td>Updated on June 26, 2023</td>\n",
       "      <td>15 mins</td>\n",
       "      <td>20 mins</td>\n",
       "      <td>35 mins</td>\n",
       "      <td>12</td>\n",
       "      <td>265.0</td>\n",
       "      <td>15g</td>\n",
       "      <td>31g</td>\n",
       "      <td>4g</td>\n",
       "    </tr>\n",
       "  </tbody>\n",
       "</table>\n",
       "<p>76195 rows × 13 columns</p>\n",
       "</div>"
      ],
      "text/plain": [
       "                                    recipe_name  rating      reviews  \\\n",
       "0                Air Fryer Ham and Cheese Wraps     NaN            0   \n",
       "1                Air Fryer New York Strip Steak     NaN            0   \n",
       "2            Air Fryer Crispy Beef and Broccoli     4.4    4 Reviews   \n",
       "3                 Air Fryer Pecan Crusted Trout     NaN            0   \n",
       "4      Air Fryer Everything-Bagel Salmon Dinner     4.0     1 Review   \n",
       "...                                         ...     ...          ...   \n",
       "76190   Low-Fat Chocolate Zucchini Mini Muffins     3.0     1 Review   \n",
       "76191              Vegan Zucchini Bread Muffins     4.3    2 Reviews   \n",
       "76192           Apple Cinnamon Zucchini Muffins     4.6   92 Reviews   \n",
       "76193                Chocolate Zucchini Muffins     4.5  203 Reviews   \n",
       "76194           Zucchini-Chocolate Chip Muffins     4.8  795 Reviews   \n",
       "\n",
       "                                             description  \\\n",
       "0      these air fryer ham and cheese wraps couldn’t ...   \n",
       "1      these new york strip steaks were quite good  d...   \n",
       "2      use your air fryer for this crispy beef and br...   \n",
       "3      this pecan crusted trout cooked in the air fry...   \n",
       "4      salmon fillets are flavored with everything ba...   \n",
       "...                                                  ...   \n",
       "76190  a sweet snack your kids will gobble up and you...   \n",
       "76191  modified an old recipe and cut 1/2 the sugar a...   \n",
       "76192  i had apples and zucchini that were just beggi...   \n",
       "76193  these chocolate zucchini muffins are a wonderf...   \n",
       "76194  these zucchini muffins are packed with shredde...   \n",
       "\n",
       "                      published_date prep_time cook_time    total_time  \\\n",
       "0      Published on October 23, 2023    4 mins    6 mins       10 mins   \n",
       "1        Published on August 3, 2023    5 mins   10 mins       30 mins   \n",
       "2         Published on June 21, 2023   20 mins   10 mins       30 mins   \n",
       "3         Published on June 21, 2023   10 mins   10 mins       20 mins   \n",
       "4         Published on June 21, 2023   15 mins   20 mins       35 mins   \n",
       "...                              ...       ...       ...           ...   \n",
       "76190    Updated on January 14, 2022   20 mins   16 mins       36 mins   \n",
       "76191     Published on April 4, 2019   25 mins   50 mins  1 hr 15 mins   \n",
       "76192       Updated on June 26, 2023   15 mins   25 mins       40 mins   \n",
       "76193        Updated on May 23, 2023   15 mins   20 mins       35 mins   \n",
       "76194       Updated on June 26, 2023   15 mins   20 mins       35 mins   \n",
       "\n",
       "      servings  calories  fat carbs protein  \n",
       "0            2     612.0  33g   57g     22g  \n",
       "1      10 mins     704.0  50g    0g     59g  \n",
       "2            4     521.0  22g   45g     37g  \n",
       "3            4     387.0  24g    9g     34g  \n",
       "4            2     589.0  32g   33g     43g  \n",
       "...        ...       ...  ...   ...     ...  \n",
       "76190       48      57.0   1g   12g      1g  \n",
       "76191       24     133.0   4g   24g      2g  \n",
       "76192       24     153.0   7g   21g      2g  \n",
       "76193       24     217.0  10g   30g      3g  \n",
       "76194       12     265.0  15g   31g      4g  \n",
       "\n",
       "[76195 rows x 13 columns]"
      ]
     },
     "execution_count": 7,
     "metadata": {},
     "output_type": "execute_result"
    }
   ],
   "source": [
    "data"
   ]
  },
  {
   "cell_type": "code",
   "execution_count": 8,
   "id": "08949769",
   "metadata": {},
   "outputs": [],
   "source": [
    "data.to_csv('food_recipes.txt', columns = ['description'], header = None, index = False)"
   ]
  },
  {
   "cell_type": "code",
   "execution_count": 9,
   "id": "ed8db167",
   "metadata": {},
   "outputs": [
    {
     "name": "stderr",
     "output_type": "stream",
     "text": [
      "Read 2M words\n",
      "Number of words:  11710\n",
      "Number of labels: 0\n",
      "Progress: 100.0% words/sec/thread:  112656 lr:  0.000000 avg.loss:  2.027439 ETA:   0h 0m 0s\n"
     ]
    }
   ],
   "source": [
    "model = fasttext.train_unsupervised('food_recipes.txt')"
   ]
  },
  {
   "cell_type": "code",
   "execution_count": 10,
   "id": "89f836d9",
   "metadata": {},
   "outputs": [
    {
     "data": {
      "text/plain": [
       "[(0.7055690288543701, 'whites'),\n",
       " (0.6812021732330322, 'egg-white'),\n",
       " (0.6530476212501526, 'eggs\"'),\n",
       " (0.6528631448745728, 'eggy'),\n",
       " (0.6427723169326782, 'beaters®'),\n",
       " (0.6169692277908325, 'yolks'),\n",
       " (0.6163359880447388, 'yolk'),\n",
       " (0.6090627908706665, 'eggs?'),\n",
       " (0.5895348787307739, 'eggs'),\n",
       " (0.5868277549743652, 'beaten')]"
      ]
     },
     "execution_count": 10,
     "metadata": {},
     "output_type": "execute_result"
    }
   ],
   "source": [
    "model.get_nearest_neighbors('egg')"
   ]
  },
  {
   "cell_type": "code",
   "execution_count": 11,
   "id": "a0d117f5",
   "metadata": {},
   "outputs": [
    {
     "data": {
      "text/plain": [
       "array([ 9.36457038e-01,  1.54535428e-01,  6.53541926e-03, -4.70490217e-01,\n",
       "       -2.39426613e-01,  7.61752278e-02,  1.67294536e-02,  1.07790865e-01,\n",
       "        2.33926848e-01, -2.30980557e-04, -4.91582565e-02,  5.05539775e-02,\n",
       "       -2.28252366e-01,  9.43381712e-02, -9.01702523e-01,  3.95461112e-01,\n",
       "       -2.48774458e-02,  4.18379098e-01, -4.03886020e-01,  1.78048790e-01,\n",
       "       -6.32165790e-01,  4.56615359e-01,  4.38248701e-02,  2.30512265e-02,\n",
       "       -3.43164861e-01,  4.25259411e-01, -4.74508345e-01,  4.83245477e-02,\n",
       "       -3.30182225e-01,  2.18310148e-01,  1.06775701e-01,  1.53922394e-01,\n",
       "       -2.95901835e-01, -1.60658285e-02, -5.83556652e-01, -1.45445779e-01,\n",
       "       -1.37064144e-01, -1.03917681e-02,  2.10796237e-01,  1.95019916e-01,\n",
       "        6.29128098e-01,  2.97839016e-01,  2.56918132e-01,  8.04114565e-02,\n",
       "        7.46673765e-03, -3.17145512e-02,  1.38481021e-01,  8.73141363e-03,\n",
       "       -1.88516602e-01,  7.47063011e-02, -2.18267038e-01,  2.60184437e-01,\n",
       "        9.09728277e-03, -5.20660818e-01, -3.98660004e-01, -9.69367698e-02,\n",
       "       -1.07778966e-01,  3.61409515e-01,  1.12189297e-02,  2.34740466e-01,\n",
       "       -1.23320939e-02,  1.37712836e-01, -2.23124884e-02, -2.25642487e-01,\n",
       "        8.54682177e-02,  2.21471354e-01,  3.08708638e-01, -5.10914087e-01,\n",
       "        4.17350531e-01, -7.52472356e-02,  3.41716975e-01,  2.64137685e-01,\n",
       "       -4.47110206e-01, -2.25479126e-01, -9.62526277e-02,  2.21045092e-01,\n",
       "        1.28567606e-01,  3.35696995e-01,  8.36599246e-02, -3.12064767e-01,\n",
       "       -2.42433608e-01, -2.94933200e-01, -1.37080327e-01,  3.86521667e-01,\n",
       "        2.54616708e-01,  4.25093360e-02, -3.46111804e-02, -4.66163486e-01,\n",
       "        2.74579048e-01, -2.34762445e-01,  1.03561312e-01, -2.88027469e-02,\n",
       "        1.69014245e-01,  7.44922757e-02,  1.54718727e-01, -4.04903898e-03,\n",
       "        5.46400905e-01, -1.97338149e-01,  4.71068360e-02,  1.92840114e-01],\n",
       "      dtype=float32)"
      ]
     },
     "execution_count": 11,
     "metadata": {},
     "output_type": "execute_result"
    }
   ],
   "source": [
    "model.get_word_vector('white')"
   ]
  },
  {
   "cell_type": "markdown",
   "id": "7dc2838d",
   "metadata": {},
   "source": [
    "# Using fasttext for text classification"
   ]
  },
  {
   "cell_type": "markdown",
   "id": "8f5930a3",
   "metadata": {},
   "source": [
    "You can checkout the dataset here: https://github.com/codebasics/nlp-tutorials/blob/main/18_fasttext_classification/ecommerce_dataset.csv"
   ]
  },
  {
   "cell_type": "code",
   "execution_count": 6,
   "id": "a572a504",
   "metadata": {},
   "outputs": [],
   "source": [
    "df = pd.read_csv('ecom.csv',names = ['category','description'],header = None)"
   ]
  },
  {
   "cell_type": "code",
   "execution_count": 7,
   "id": "740a63c7",
   "metadata": {},
   "outputs": [
    {
     "data": {
      "text/html": [
       "<div>\n",
       "<style scoped>\n",
       "    .dataframe tbody tr th:only-of-type {\n",
       "        vertical-align: middle;\n",
       "    }\n",
       "\n",
       "    .dataframe tbody tr th {\n",
       "        vertical-align: top;\n",
       "    }\n",
       "\n",
       "    .dataframe thead th {\n",
       "        text-align: right;\n",
       "    }\n",
       "</style>\n",
       "<table border=\"1\" class=\"dataframe\">\n",
       "  <thead>\n",
       "    <tr style=\"text-align: right;\">\n",
       "      <th></th>\n",
       "      <th>category</th>\n",
       "      <th>description</th>\n",
       "    </tr>\n",
       "  </thead>\n",
       "  <tbody>\n",
       "    <tr>\n",
       "      <th>0</th>\n",
       "      <td>Household</td>\n",
       "      <td>Paper Plane Design Framed Wall Hanging Motivat...</td>\n",
       "    </tr>\n",
       "    <tr>\n",
       "      <th>1</th>\n",
       "      <td>Household</td>\n",
       "      <td>SAF 'Floral' Framed Painting (Wood, 30 inch x ...</td>\n",
       "    </tr>\n",
       "    <tr>\n",
       "      <th>2</th>\n",
       "      <td>Household</td>\n",
       "      <td>SAF 'UV Textured Modern Art Print Framed' Pain...</td>\n",
       "    </tr>\n",
       "    <tr>\n",
       "      <th>3</th>\n",
       "      <td>Household</td>\n",
       "      <td>SAF Flower Print Framed Painting (Synthetic, 1...</td>\n",
       "    </tr>\n",
       "    <tr>\n",
       "      <th>4</th>\n",
       "      <td>Household</td>\n",
       "      <td>Incredible Gifts India Wooden Happy Birthday U...</td>\n",
       "    </tr>\n",
       "  </tbody>\n",
       "</table>\n",
       "</div>"
      ],
      "text/plain": [
       "    category                                        description\n",
       "0  Household  Paper Plane Design Framed Wall Hanging Motivat...\n",
       "1  Household  SAF 'Floral' Framed Painting (Wood, 30 inch x ...\n",
       "2  Household  SAF 'UV Textured Modern Art Print Framed' Pain...\n",
       "3  Household  SAF Flower Print Framed Painting (Synthetic, 1...\n",
       "4  Household  Incredible Gifts India Wooden Happy Birthday U..."
      ]
     },
     "execution_count": 7,
     "metadata": {},
     "output_type": "execute_result"
    }
   ],
   "source": [
    "df.head()"
   ]
  },
  {
   "cell_type": "code",
   "execution_count": 8,
   "id": "fbd900d3",
   "metadata": {},
   "outputs": [
    {
     "data": {
      "text/plain": [
       "(50425, 2)"
      ]
     },
     "execution_count": 8,
     "metadata": {},
     "output_type": "execute_result"
    }
   ],
   "source": [
    "df.shape"
   ]
  },
  {
   "cell_type": "code",
   "execution_count": 10,
   "id": "7884d3f5",
   "metadata": {},
   "outputs": [
    {
     "data": {
      "text/plain": [
       "category\n",
       "Household                 19313\n",
       "Books                     11820\n",
       "Electronics               10621\n",
       "Clothing & Accessories     8671\n",
       "Name: count, dtype: int64"
      ]
     },
     "execution_count": 10,
     "metadata": {},
     "output_type": "execute_result"
    }
   ],
   "source": [
    "df['category'].value_counts()"
   ]
  },
  {
   "cell_type": "code",
   "execution_count": 11,
   "id": "5b151d05",
   "metadata": {},
   "outputs": [],
   "source": [
    "df.dropna(inplace=True)"
   ]
  },
  {
   "cell_type": "code",
   "execution_count": 12,
   "id": "5f7640f6",
   "metadata": {},
   "outputs": [
    {
     "data": {
      "text/plain": [
       "(50424, 2)"
      ]
     },
     "execution_count": 12,
     "metadata": {},
     "output_type": "execute_result"
    }
   ],
   "source": [
    "df.shape"
   ]
  },
  {
   "cell_type": "code",
   "execution_count": 13,
   "id": "26af0e18",
   "metadata": {},
   "outputs": [],
   "source": [
    "df['category'].replace('Clothing & Accessories','Clothing_Accessories',inplace= True)"
   ]
  },
  {
   "cell_type": "code",
   "execution_count": 14,
   "id": "6872b96c",
   "metadata": {},
   "outputs": [
    {
     "data": {
      "text/plain": [
       "array(['Household', 'Books', 'Clothing_Accessories', 'Electronics'],\n",
       "      dtype=object)"
      ]
     },
     "execution_count": 14,
     "metadata": {},
     "output_type": "execute_result"
    }
   ],
   "source": [
    "df['category'].unique()"
   ]
  },
  {
   "cell_type": "code",
   "execution_count": 15,
   "id": "eec578de",
   "metadata": {},
   "outputs": [],
   "source": [
    "df['category'] = \"__label__\" + df['category'].astype(str)"
   ]
  },
  {
   "cell_type": "code",
   "execution_count": 16,
   "id": "2b5279bd",
   "metadata": {},
   "outputs": [
    {
     "data": {
      "text/html": [
       "<div>\n",
       "<style scoped>\n",
       "    .dataframe tbody tr th:only-of-type {\n",
       "        vertical-align: middle;\n",
       "    }\n",
       "\n",
       "    .dataframe tbody tr th {\n",
       "        vertical-align: top;\n",
       "    }\n",
       "\n",
       "    .dataframe thead th {\n",
       "        text-align: right;\n",
       "    }\n",
       "</style>\n",
       "<table border=\"1\" class=\"dataframe\">\n",
       "  <thead>\n",
       "    <tr style=\"text-align: right;\">\n",
       "      <th></th>\n",
       "      <th>category</th>\n",
       "      <th>description</th>\n",
       "    </tr>\n",
       "  </thead>\n",
       "  <tbody>\n",
       "    <tr>\n",
       "      <th>0</th>\n",
       "      <td>__label__Household</td>\n",
       "      <td>Paper Plane Design Framed Wall Hanging Motivat...</td>\n",
       "    </tr>\n",
       "    <tr>\n",
       "      <th>1</th>\n",
       "      <td>__label__Household</td>\n",
       "      <td>SAF 'Floral' Framed Painting (Wood, 30 inch x ...</td>\n",
       "    </tr>\n",
       "    <tr>\n",
       "      <th>2</th>\n",
       "      <td>__label__Household</td>\n",
       "      <td>SAF 'UV Textured Modern Art Print Framed' Pain...</td>\n",
       "    </tr>\n",
       "    <tr>\n",
       "      <th>3</th>\n",
       "      <td>__label__Household</td>\n",
       "      <td>SAF Flower Print Framed Painting (Synthetic, 1...</td>\n",
       "    </tr>\n",
       "    <tr>\n",
       "      <th>4</th>\n",
       "      <td>__label__Household</td>\n",
       "      <td>Incredible Gifts India Wooden Happy Birthday U...</td>\n",
       "    </tr>\n",
       "  </tbody>\n",
       "</table>\n",
       "</div>"
      ],
      "text/plain": [
       "             category                                        description\n",
       "0  __label__Household  Paper Plane Design Framed Wall Hanging Motivat...\n",
       "1  __label__Household  SAF 'Floral' Framed Painting (Wood, 30 inch x ...\n",
       "2  __label__Household  SAF 'UV Textured Modern Art Print Framed' Pain...\n",
       "3  __label__Household  SAF Flower Print Framed Painting (Synthetic, 1...\n",
       "4  __label__Household  Incredible Gifts India Wooden Happy Birthday U..."
      ]
     },
     "execution_count": 16,
     "metadata": {},
     "output_type": "execute_result"
    }
   ],
   "source": [
    "df.head()"
   ]
  },
  {
   "cell_type": "code",
   "execution_count": 19,
   "id": "7d146a0e",
   "metadata": {},
   "outputs": [],
   "source": [
    "df['category_description'] = df['category'] + ' ' + df['description']"
   ]
  },
  {
   "cell_type": "code",
   "execution_count": 20,
   "id": "cfbee047",
   "metadata": {},
   "outputs": [
    {
     "data": {
      "text/html": [
       "<div>\n",
       "<style scoped>\n",
       "    .dataframe tbody tr th:only-of-type {\n",
       "        vertical-align: middle;\n",
       "    }\n",
       "\n",
       "    .dataframe tbody tr th {\n",
       "        vertical-align: top;\n",
       "    }\n",
       "\n",
       "    .dataframe thead th {\n",
       "        text-align: right;\n",
       "    }\n",
       "</style>\n",
       "<table border=\"1\" class=\"dataframe\">\n",
       "  <thead>\n",
       "    <tr style=\"text-align: right;\">\n",
       "      <th></th>\n",
       "      <th>category</th>\n",
       "      <th>description</th>\n",
       "      <th>category_description</th>\n",
       "    </tr>\n",
       "  </thead>\n",
       "  <tbody>\n",
       "    <tr>\n",
       "      <th>0</th>\n",
       "      <td>__label__Household</td>\n",
       "      <td>Paper Plane Design Framed Wall Hanging Motivat...</td>\n",
       "      <td>__label__Household Paper Plane Design Framed W...</td>\n",
       "    </tr>\n",
       "    <tr>\n",
       "      <th>1</th>\n",
       "      <td>__label__Household</td>\n",
       "      <td>SAF 'Floral' Framed Painting (Wood, 30 inch x ...</td>\n",
       "      <td>__label__Household SAF 'Floral' Framed Paintin...</td>\n",
       "    </tr>\n",
       "    <tr>\n",
       "      <th>2</th>\n",
       "      <td>__label__Household</td>\n",
       "      <td>SAF 'UV Textured Modern Art Print Framed' Pain...</td>\n",
       "      <td>__label__Household SAF 'UV Textured Modern Art...</td>\n",
       "    </tr>\n",
       "    <tr>\n",
       "      <th>3</th>\n",
       "      <td>__label__Household</td>\n",
       "      <td>SAF Flower Print Framed Painting (Synthetic, 1...</td>\n",
       "      <td>__label__Household SAF Flower Print Framed Pai...</td>\n",
       "    </tr>\n",
       "    <tr>\n",
       "      <th>4</th>\n",
       "      <td>__label__Household</td>\n",
       "      <td>Incredible Gifts India Wooden Happy Birthday U...</td>\n",
       "      <td>__label__Household Incredible Gifts India Wood...</td>\n",
       "    </tr>\n",
       "  </tbody>\n",
       "</table>\n",
       "</div>"
      ],
      "text/plain": [
       "             category                                        description  \\\n",
       "0  __label__Household  Paper Plane Design Framed Wall Hanging Motivat...   \n",
       "1  __label__Household  SAF 'Floral' Framed Painting (Wood, 30 inch x ...   \n",
       "2  __label__Household  SAF 'UV Textured Modern Art Print Framed' Pain...   \n",
       "3  __label__Household  SAF Flower Print Framed Painting (Synthetic, 1...   \n",
       "4  __label__Household  Incredible Gifts India Wooden Happy Birthday U...   \n",
       "\n",
       "                                category_description  \n",
       "0  __label__Household Paper Plane Design Framed W...  \n",
       "1  __label__Household SAF 'Floral' Framed Paintin...  \n",
       "2  __label__Household SAF 'UV Textured Modern Art...  \n",
       "3  __label__Household SAF Flower Print Framed Pai...  \n",
       "4  __label__Household Incredible Gifts India Wood...  "
      ]
     },
     "execution_count": 20,
     "metadata": {},
     "output_type": "execute_result"
    }
   ],
   "source": [
    "df.head()"
   ]
  },
  {
   "cell_type": "code",
   "execution_count": 31,
   "id": "da92999c",
   "metadata": {},
   "outputs": [],
   "source": [
    "def preprocess(text):\n",
    "    text = re.sub(r'[^\\w\\s+]','',text)\n",
    "    return text.strip().lower()"
   ]
  },
  {
   "cell_type": "code",
   "execution_count": 32,
   "id": "3794101e",
   "metadata": {},
   "outputs": [
    {
     "data": {
      "text/plain": [
       "'__label__household paper plane design framed wall hanging motivational office decor art prints 87 x 87 inch  set of 4 painting made up in synthetic frame with uv textured print which gives multi effects and attracts towards it this is an special series of paintings which makes your wall very beautiful and gives a royal touch this painting is ready to hang you would be proud to possess this unique painting that is a niche apart we use only the most modern and efficient printing technology on our prints with only the and inks and precision epson roland and hp printers this innovative hd printing technique results in durable and spectacular looking prints of the highest that last a lifetime we print solely with topnotch 100 inks to achieve brilliant and true colours due to their high level of uv resistance our prints retain their beautiful colours for many years add colour and style to your living space with this digitally printed painting some are for pleasure and some for eternal blissso bring home this elegant print that is lushed with rich colors that makes it nothing but sheer elegance to be to your friends and familyit would be treasured forever by whoever your lucky recipient is liven up your place with these intriguing paintings that are high definition hd graphic digital prints for home office or any room'"
      ]
     },
     "execution_count": 32,
     "metadata": {},
     "output_type": "execute_result"
    }
   ],
   "source": [
    "preprocess(df.category_description[0])"
   ]
  },
  {
   "cell_type": "code",
   "execution_count": 33,
   "id": "a7937927",
   "metadata": {},
   "outputs": [],
   "source": [
    "df['category_description'] = df['category_description'].map(preprocess)"
   ]
  },
  {
   "cell_type": "code",
   "execution_count": 34,
   "id": "dc2d1f63",
   "metadata": {},
   "outputs": [
    {
     "data": {
      "text/html": [
       "<div>\n",
       "<style scoped>\n",
       "    .dataframe tbody tr th:only-of-type {\n",
       "        vertical-align: middle;\n",
       "    }\n",
       "\n",
       "    .dataframe tbody tr th {\n",
       "        vertical-align: top;\n",
       "    }\n",
       "\n",
       "    .dataframe thead th {\n",
       "        text-align: right;\n",
       "    }\n",
       "</style>\n",
       "<table border=\"1\" class=\"dataframe\">\n",
       "  <thead>\n",
       "    <tr style=\"text-align: right;\">\n",
       "      <th></th>\n",
       "      <th>category</th>\n",
       "      <th>description</th>\n",
       "      <th>category_description</th>\n",
       "    </tr>\n",
       "  </thead>\n",
       "  <tbody>\n",
       "    <tr>\n",
       "      <th>0</th>\n",
       "      <td>__label__Household</td>\n",
       "      <td>Paper Plane Design Framed Wall Hanging Motivat...</td>\n",
       "      <td>__label__household paper plane design framed w...</td>\n",
       "    </tr>\n",
       "    <tr>\n",
       "      <th>1</th>\n",
       "      <td>__label__Household</td>\n",
       "      <td>SAF 'Floral' Framed Painting (Wood, 30 inch x ...</td>\n",
       "      <td>__label__household saf floral framed painting ...</td>\n",
       "    </tr>\n",
       "    <tr>\n",
       "      <th>2</th>\n",
       "      <td>__label__Household</td>\n",
       "      <td>SAF 'UV Textured Modern Art Print Framed' Pain...</td>\n",
       "      <td>__label__household saf uv textured modern art ...</td>\n",
       "    </tr>\n",
       "    <tr>\n",
       "      <th>3</th>\n",
       "      <td>__label__Household</td>\n",
       "      <td>SAF Flower Print Framed Painting (Synthetic, 1...</td>\n",
       "      <td>__label__household saf flower print framed pai...</td>\n",
       "    </tr>\n",
       "    <tr>\n",
       "      <th>4</th>\n",
       "      <td>__label__Household</td>\n",
       "      <td>Incredible Gifts India Wooden Happy Birthday U...</td>\n",
       "      <td>__label__household incredible gifts india wood...</td>\n",
       "    </tr>\n",
       "  </tbody>\n",
       "</table>\n",
       "</div>"
      ],
      "text/plain": [
       "             category                                        description  \\\n",
       "0  __label__Household  Paper Plane Design Framed Wall Hanging Motivat...   \n",
       "1  __label__Household  SAF 'Floral' Framed Painting (Wood, 30 inch x ...   \n",
       "2  __label__Household  SAF 'UV Textured Modern Art Print Framed' Pain...   \n",
       "3  __label__Household  SAF Flower Print Framed Painting (Synthetic, 1...   \n",
       "4  __label__Household  Incredible Gifts India Wooden Happy Birthday U...   \n",
       "\n",
       "                                category_description  \n",
       "0  __label__household paper plane design framed w...  \n",
       "1  __label__household saf floral framed painting ...  \n",
       "2  __label__household saf uv textured modern art ...  \n",
       "3  __label__household saf flower print framed pai...  \n",
       "4  __label__household incredible gifts india wood...  "
      ]
     },
     "execution_count": 34,
     "metadata": {},
     "output_type": "execute_result"
    }
   ],
   "source": [
    "df.head()"
   ]
  },
  {
   "cell_type": "code",
   "execution_count": 36,
   "id": "fdaa5151",
   "metadata": {},
   "outputs": [],
   "source": [
    "from sklearn.model_selection import train_test_split"
   ]
  },
  {
   "cell_type": "code",
   "execution_count": 37,
   "id": "ff669699",
   "metadata": {},
   "outputs": [],
   "source": [
    "train, test = train_test_split(df,test_size = 0.2, random_state=42)"
   ]
  },
  {
   "cell_type": "code",
   "execution_count": 38,
   "id": "5d18c933",
   "metadata": {},
   "outputs": [
    {
     "data": {
      "text/plain": [
       "((40339, 3), (10085, 3))"
      ]
     },
     "execution_count": 38,
     "metadata": {},
     "output_type": "execute_result"
    }
   ],
   "source": [
    "train.shape, test.shape"
   ]
  },
  {
   "cell_type": "code",
   "execution_count": 39,
   "id": "58a3203c",
   "metadata": {},
   "outputs": [],
   "source": [
    "train.to_csv(\"ecom.train\",columns=['category_description'],index = False, header = None)\n",
    "test.to_csv(\"ecom.test\",columns=['category_description'],index = False, header = None)"
   ]
  },
  {
   "cell_type": "code",
   "execution_count": 40,
   "id": "de45d791",
   "metadata": {},
   "outputs": [
    {
     "name": "stderr",
     "output_type": "stream",
     "text": [
      "Read 4M words\n",
      "Number of words:  111952\n",
      "Number of labels: 4\n",
      "Progress: 100.0% words/sec/thread: 3491442 lr:  0.000000 avg.loss:  0.190618 ETA:   0h 0m 0s\n"
     ]
    }
   ],
   "source": [
    "model = fasttext.train_supervised(input='ecom.train')"
   ]
  },
  {
   "cell_type": "code",
   "execution_count": 41,
   "id": "da96f922",
   "metadata": {},
   "outputs": [
    {
     "data": {
      "text/plain": [
       "(10085, 0.9688646504709966, 0.9688646504709966)"
      ]
     },
     "execution_count": 41,
     "metadata": {},
     "output_type": "execute_result"
    }
   ],
   "source": [
    "model.test('ecom.test')"
   ]
  },
  {
   "cell_type": "code",
   "execution_count": 45,
   "id": "2a16bf89",
   "metadata": {},
   "outputs": [
    {
     "data": {
      "text/plain": [
       "(('__label__clothing_accessories',), array([0.71787065]))"
      ]
     },
     "execution_count": 45,
     "metadata": {},
     "output_type": "execute_result"
    }
   ],
   "source": [
    "model.predict('T-shirt for everybody is available for winter right now with size M')"
   ]
  },
  {
   "cell_type": "code",
   "execution_count": 46,
   "id": "b42aa93c",
   "metadata": {},
   "outputs": [
    {
     "data": {
      "text/plain": [
       "[(0.9993937015533447, 'healthapp'),\n",
       " (0.9993937015533447, 'phonerunning'),\n",
       " (0.999387264251709, 'immedaitely'),\n",
       " (0.999387264251709, 'kinking'),\n",
       " (0.999387264251709, 'frequencyindependent'),\n",
       " (0.999387264251709, 'preampprocessor'),\n",
       " (0.999387264251709, 'ultraflexible'),\n",
       " (0.999387264251709, 'ac3dts'),\n",
       " (0.999387264251709, 'crosssection'),\n",
       " (0.9993847608566284, 'virtualize')]"
      ]
     },
     "execution_count": 46,
     "metadata": {},
     "output_type": "execute_result"
    }
   ],
   "source": [
    "model.get_nearest_neighbors('sony')"
   ]
  }
 ],
 "metadata": {
  "kernelspec": {
   "display_name": ".venv",
   "language": "python",
   "name": "python3"
  },
  "language_info": {
   "codemirror_mode": {
    "name": "ipython",
    "version": 3
   },
   "file_extension": ".py",
   "mimetype": "text/x-python",
   "name": "python",
   "nbconvert_exporter": "python",
   "pygments_lexer": "ipython3",
   "version": "3.12.7"
  }
 },
 "nbformat": 4,
 "nbformat_minor": 5
}
