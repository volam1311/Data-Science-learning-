{
 "cells": [
  {
   "cell_type": "markdown",
   "id": "62fa065d",
   "metadata": {},
   "source": [
    "# TF-IDF:\n",
    "- TF: number_of_repition_of_words_in_a_sentence / number_of_words_in_a_sentence\n",
    "- IDF: log(number_of_sentence / sentences_carry_the_word)\n",
    "\n",
    "TF-IDF = TF * IDF"
   ]
  },
  {
   "cell_type": "code",
   "execution_count": 5,
   "id": "fb30a805",
   "metadata": {},
   "outputs": [],
   "source": [
    "import pandas as pd \n",
    "import numpy as np\n",
    "from sklearn.feature_extraction.text import TfidfTransformer, TfidfVectorizer\n",
    "corpus = [\n",
    "    \"Lam is data scientist and he is also a software engineer\",\n",
    "    \"Apple is so bad\",\n",
    "    \"Nvidia is new boss in the tech industry\",\n",
    "    \"Netflix is not a big tech company anymore\"\n",
    "]"
   ]
  },
  {
   "cell_type": "code",
   "execution_count": 6,
   "id": "7ca81ced",
   "metadata": {},
   "outputs": [],
   "source": [
    "v = TfidfVectorizer()\n",
    "v.fit(corpus)\n",
    "transform_output = v.transform(corpus)"
   ]
  },
  {
   "cell_type": "code",
   "execution_count": 8,
   "id": "7fa1a232",
   "metadata": {},
   "outputs": [
    {
     "name": "stdout",
     "output_type": "stream",
     "text": [
      "{'lam': 14, 'is': 13, 'data': 8, 'scientist': 19, 'and': 1, 'he': 10, 'also': 0, 'software': 21, 'engineer': 9, 'apple': 3, 'so': 20, 'bad': 4, 'nvidia': 18, 'new': 16, 'boss': 6, 'in': 11, 'the': 23, 'tech': 22, 'industry': 12, 'netflix': 15, 'not': 17, 'big': 5, 'company': 7, 'anymore': 2}\n"
     ]
    }
   ],
   "source": [
    "print(v.vocabulary_)"
   ]
  },
  {
   "cell_type": "code",
   "execution_count": 9,
   "id": "5944ded9",
   "metadata": {},
   "outputs": [
    {
     "name": "stdout",
     "output_type": "stream",
     "text": [
      "also: 1.916290731874155\n",
      "and: 1.916290731874155\n",
      "anymore: 1.916290731874155\n",
      "apple: 1.916290731874155\n",
      "bad: 1.916290731874155\n",
      "big: 1.916290731874155\n",
      "boss: 1.916290731874155\n",
      "company: 1.916290731874155\n",
      "data: 1.916290731874155\n",
      "engineer: 1.916290731874155\n",
      "he: 1.916290731874155\n",
      "in: 1.916290731874155\n",
      "industry: 1.916290731874155\n",
      "is: 1.0\n",
      "lam: 1.916290731874155\n",
      "netflix: 1.916290731874155\n",
      "new: 1.916290731874155\n",
      "not: 1.916290731874155\n",
      "nvidia: 1.916290731874155\n",
      "scientist: 1.916290731874155\n",
      "so: 1.916290731874155\n",
      "software: 1.916290731874155\n",
      "tech: 1.5108256237659907\n",
      "the: 1.916290731874155\n"
     ]
    }
   ],
   "source": [
    "#Print the idf score \n",
    "all_feature_names = v.get_feature_names_out()\n",
    "for word in all_feature_names:\n",
    "    idx = v.vocabulary_.get(word)\n",
    "\n",
    "    idf_score = v.idf_[idx]\n",
    "\n",
    "    print(f\"{word}: {idf_score}\")"
   ]
  },
  {
   "cell_type": "code",
   "execution_count": 10,
   "id": "a39823f5",
   "metadata": {},
   "outputs": [
    {
     "name": "stdout",
     "output_type": "stream",
     "text": [
      "<Compressed Sparse Row sparse matrix of dtype 'float64'\n",
      "\twith 28 stored elements and shape (4, 24)>\n",
      "  Coords\tValues\n",
      "  (0, 0)\t0.33169230692595647\n",
      "  (0, 1)\t0.33169230692595647\n",
      "  (0, 8)\t0.33169230692595647\n",
      "  (0, 9)\t0.33169230692595647\n",
      "  (0, 10)\t0.33169230692595647\n",
      "  (0, 13)\t0.34618161159873423\n",
      "  (0, 14)\t0.33169230692595647\n",
      "  (0, 19)\t0.33169230692595647\n",
      "  (0, 21)\t0.33169230692595647\n",
      "  (1, 3)\t0.5528053199908667\n",
      "  (1, 4)\t0.5528053199908667\n",
      "  (1, 13)\t0.2884767487500274\n",
      "  (1, 20)\t0.5528053199908667\n",
      "  (2, 6)\t0.3808615734785117\n",
      "  (2, 11)\t0.3808615734785117\n",
      "  (2, 12)\t0.3808615734785117\n",
      "  (2, 13)\t0.1987493688423909\n",
      "  (2, 16)\t0.3808615734785117\n",
      "  (2, 18)\t0.3808615734785117\n",
      "  (2, 22)\t0.3002756391544022\n",
      "  (2, 23)\t0.3808615734785117\n",
      "  (3, 2)\t0.41190608298099013\n",
      "  (3, 5)\t0.41190608298099013\n",
      "  (3, 7)\t0.41190608298099013\n",
      "  (3, 13)\t0.21494968176261076\n",
      "  (3, 15)\t0.41190608298099013\n",
      "  (3, 17)\t0.41190608298099013\n",
      "  (3, 22)\t0.3247514870272976\n"
     ]
    }
   ],
   "source": [
    "print(transform_output)"
   ]
  },
  {
   "cell_type": "code",
   "execution_count": 11,
   "id": "3287455b",
   "metadata": {},
   "outputs": [],
   "source": [
    "df = pd.read_csv('Ecommerce_data.csv')"
   ]
  },
  {
   "cell_type": "code",
   "execution_count": 12,
   "id": "5dc149ce",
   "metadata": {},
   "outputs": [
    {
     "data": {
      "text/html": [
       "<div>\n",
       "<style scoped>\n",
       "    .dataframe tbody tr th:only-of-type {\n",
       "        vertical-align: middle;\n",
       "    }\n",
       "\n",
       "    .dataframe tbody tr th {\n",
       "        vertical-align: top;\n",
       "    }\n",
       "\n",
       "    .dataframe thead th {\n",
       "        text-align: right;\n",
       "    }\n",
       "</style>\n",
       "<table border=\"1\" class=\"dataframe\">\n",
       "  <thead>\n",
       "    <tr style=\"text-align: right;\">\n",
       "      <th></th>\n",
       "      <th>Text</th>\n",
       "      <th>label</th>\n",
       "    </tr>\n",
       "  </thead>\n",
       "  <tbody>\n",
       "    <tr>\n",
       "      <th>0</th>\n",
       "      <td>Urban Ladder Eisner Low Back Study-Office Comp...</td>\n",
       "      <td>Household</td>\n",
       "    </tr>\n",
       "    <tr>\n",
       "      <th>1</th>\n",
       "      <td>Contrast living Wooden Decorative Box,Painted ...</td>\n",
       "      <td>Household</td>\n",
       "    </tr>\n",
       "    <tr>\n",
       "      <th>2</th>\n",
       "      <td>IO Crest SY-PCI40010 PCI RAID Host Controller ...</td>\n",
       "      <td>Electronics</td>\n",
       "    </tr>\n",
       "    <tr>\n",
       "      <th>3</th>\n",
       "      <td>ISAKAA Baby Socks from Just Born to 8 Years- P...</td>\n",
       "      <td>Clothing &amp; Accessories</td>\n",
       "    </tr>\n",
       "    <tr>\n",
       "      <th>4</th>\n",
       "      <td>Indira Designer Women's Art Mysore Silk Saree ...</td>\n",
       "      <td>Clothing &amp; Accessories</td>\n",
       "    </tr>\n",
       "  </tbody>\n",
       "</table>\n",
       "</div>"
      ],
      "text/plain": [
       "                                                Text                   label\n",
       "0  Urban Ladder Eisner Low Back Study-Office Comp...               Household\n",
       "1  Contrast living Wooden Decorative Box,Painted ...               Household\n",
       "2  IO Crest SY-PCI40010 PCI RAID Host Controller ...             Electronics\n",
       "3  ISAKAA Baby Socks from Just Born to 8 Years- P...  Clothing & Accessories\n",
       "4  Indira Designer Women's Art Mysore Silk Saree ...  Clothing & Accessories"
      ]
     },
     "execution_count": 12,
     "metadata": {},
     "output_type": "execute_result"
    }
   ],
   "source": [
    "df.head()"
   ]
  },
  {
   "cell_type": "code",
   "execution_count": 13,
   "id": "ca8a4a17",
   "metadata": {},
   "outputs": [
    {
     "data": {
      "text/plain": [
       "label\n",
       "Household                 6000\n",
       "Electronics               6000\n",
       "Clothing & Accessories    6000\n",
       "Books                     6000\n",
       "Name: count, dtype: int64"
      ]
     },
     "execution_count": 13,
     "metadata": {},
     "output_type": "execute_result"
    }
   ],
   "source": [
    "df.label.value_counts()"
   ]
  },
  {
   "cell_type": "code",
   "execution_count": 14,
   "id": "84645e78",
   "metadata": {},
   "outputs": [
    {
     "data": {
      "text/plain": [
       "(24000, 2)"
      ]
     },
     "execution_count": 14,
     "metadata": {},
     "output_type": "execute_result"
    }
   ],
   "source": [
    "df.shape"
   ]
  },
  {
   "cell_type": "code",
   "execution_count": 15,
   "id": "d24d6328",
   "metadata": {},
   "outputs": [],
   "source": [
    "df['label_num'] = df.label.map({\n",
    "    'Household':0,\n",
    "    'Electronics': 1,\n",
    "    'Clothing & Accessories': 2,\n",
    "    'Books':3\n",
    "})"
   ]
  },
  {
   "cell_type": "code",
   "execution_count": 16,
   "id": "d7d669a4",
   "metadata": {},
   "outputs": [
    {
     "data": {
      "text/html": [
       "<div>\n",
       "<style scoped>\n",
       "    .dataframe tbody tr th:only-of-type {\n",
       "        vertical-align: middle;\n",
       "    }\n",
       "\n",
       "    .dataframe tbody tr th {\n",
       "        vertical-align: top;\n",
       "    }\n",
       "\n",
       "    .dataframe thead th {\n",
       "        text-align: right;\n",
       "    }\n",
       "</style>\n",
       "<table border=\"1\" class=\"dataframe\">\n",
       "  <thead>\n",
       "    <tr style=\"text-align: right;\">\n",
       "      <th></th>\n",
       "      <th>Text</th>\n",
       "      <th>label</th>\n",
       "      <th>label_num</th>\n",
       "    </tr>\n",
       "  </thead>\n",
       "  <tbody>\n",
       "    <tr>\n",
       "      <th>0</th>\n",
       "      <td>Urban Ladder Eisner Low Back Study-Office Comp...</td>\n",
       "      <td>Household</td>\n",
       "      <td>0</td>\n",
       "    </tr>\n",
       "    <tr>\n",
       "      <th>1</th>\n",
       "      <td>Contrast living Wooden Decorative Box,Painted ...</td>\n",
       "      <td>Household</td>\n",
       "      <td>0</td>\n",
       "    </tr>\n",
       "    <tr>\n",
       "      <th>2</th>\n",
       "      <td>IO Crest SY-PCI40010 PCI RAID Host Controller ...</td>\n",
       "      <td>Electronics</td>\n",
       "      <td>1</td>\n",
       "    </tr>\n",
       "    <tr>\n",
       "      <th>3</th>\n",
       "      <td>ISAKAA Baby Socks from Just Born to 8 Years- P...</td>\n",
       "      <td>Clothing &amp; Accessories</td>\n",
       "      <td>2</td>\n",
       "    </tr>\n",
       "    <tr>\n",
       "      <th>4</th>\n",
       "      <td>Indira Designer Women's Art Mysore Silk Saree ...</td>\n",
       "      <td>Clothing &amp; Accessories</td>\n",
       "      <td>2</td>\n",
       "    </tr>\n",
       "    <tr>\n",
       "      <th>...</th>\n",
       "      <td>...</td>\n",
       "      <td>...</td>\n",
       "      <td>...</td>\n",
       "    </tr>\n",
       "    <tr>\n",
       "      <th>23995</th>\n",
       "      <td>Marvel Physics MCQ's for MHT - CET</td>\n",
       "      <td>Books</td>\n",
       "      <td>3</td>\n",
       "    </tr>\n",
       "    <tr>\n",
       "      <th>23996</th>\n",
       "      <td>Internet Download Manager | Lifetime License |...</td>\n",
       "      <td>Books</td>\n",
       "      <td>3</td>\n",
       "    </tr>\n",
       "    <tr>\n",
       "      <th>23997</th>\n",
       "      <td>Sadhubela's Handcrafted Iron Degchi Handi Pot ...</td>\n",
       "      <td>Household</td>\n",
       "      <td>0</td>\n",
       "    </tr>\n",
       "    <tr>\n",
       "      <th>23998</th>\n",
       "      <td>Audio-Technica AT-LP60 Automatic Belt Driven D...</td>\n",
       "      <td>Electronics</td>\n",
       "      <td>1</td>\n",
       "    </tr>\n",
       "    <tr>\n",
       "      <th>23999</th>\n",
       "      <td>LG GH24NSB0 DVD Writer 24X SATA Internal OEM P...</td>\n",
       "      <td>Electronics</td>\n",
       "      <td>1</td>\n",
       "    </tr>\n",
       "  </tbody>\n",
       "</table>\n",
       "<p>24000 rows × 3 columns</p>\n",
       "</div>"
      ],
      "text/plain": [
       "                                                    Text  \\\n",
       "0      Urban Ladder Eisner Low Back Study-Office Comp...   \n",
       "1      Contrast living Wooden Decorative Box,Painted ...   \n",
       "2      IO Crest SY-PCI40010 PCI RAID Host Controller ...   \n",
       "3      ISAKAA Baby Socks from Just Born to 8 Years- P...   \n",
       "4      Indira Designer Women's Art Mysore Silk Saree ...   \n",
       "...                                                  ...   \n",
       "23995                 Marvel Physics MCQ's for MHT - CET   \n",
       "23996  Internet Download Manager | Lifetime License |...   \n",
       "23997  Sadhubela's Handcrafted Iron Degchi Handi Pot ...   \n",
       "23998  Audio-Technica AT-LP60 Automatic Belt Driven D...   \n",
       "23999  LG GH24NSB0 DVD Writer 24X SATA Internal OEM P...   \n",
       "\n",
       "                        label  label_num  \n",
       "0                   Household          0  \n",
       "1                   Household          0  \n",
       "2                 Electronics          1  \n",
       "3      Clothing & Accessories          2  \n",
       "4      Clothing & Accessories          2  \n",
       "...                       ...        ...  \n",
       "23995                   Books          3  \n",
       "23996                   Books          3  \n",
       "23997               Household          0  \n",
       "23998             Electronics          1  \n",
       "23999             Electronics          1  \n",
       "\n",
       "[24000 rows x 3 columns]"
      ]
     },
     "execution_count": 16,
     "metadata": {},
     "output_type": "execute_result"
    }
   ],
   "source": [
    "df"
   ]
  },
  {
   "cell_type": "code",
   "execution_count": 22,
   "id": "437a9a47",
   "metadata": {},
   "outputs": [],
   "source": [
    "from sklearn.model_selection import train_test_split"
   ]
  },
  {
   "cell_type": "code",
   "execution_count": 23,
   "id": "1ea2cab5",
   "metadata": {},
   "outputs": [],
   "source": [
    "x_train, x_test, y_train, y_test = train_test_split(df.Text, df.label_num, test_size=0.2, random_state=42)"
   ]
  },
  {
   "cell_type": "code",
   "execution_count": 24,
   "id": "3411e1b4",
   "metadata": {},
   "outputs": [
    {
     "data": {
      "text/plain": [
       "19200"
      ]
     },
     "execution_count": 24,
     "metadata": {},
     "output_type": "execute_result"
    }
   ],
   "source": [
    "len(x_train)"
   ]
  },
  {
   "cell_type": "code",
   "execution_count": 25,
   "id": "588f430c",
   "metadata": {},
   "outputs": [
    {
     "data": {
      "text/plain": [
       "3111     Satyam Kraft PU Leather(Pack of 1) Adjustable ...\n",
       "18679    Neva Men Thermal Bottom Neva black coloured th...\n",
       "17472    Nisha Furniture Sheesham Wood Bedside Table fo...\n",
       "21451    Fourgee Women's Skinny fit Jeans FOURGEE as a ...\n",
       "20800    Nxt 2 Skn Girl's Silk Stockings (N2S210, Beige...\n",
       "                               ...                        \n",
       "19950    From Stonehenge to Samarkand: An Anthology of ...\n",
       "18744    SAT Reading & Writing Prep (Kaplan Test Prep) ...\n",
       "3263     Eveready IH401 1000-Watt Immersion Rod (Black)...\n",
       "2754     Nu Republic Nu Enrgy Wireless Earphones with M...\n",
       "13061    Dixcy Josh Women's Cotton Blend Printed Pantie...\n",
       "Name: Text, Length: 4800, dtype: object"
      ]
     },
     "execution_count": 25,
     "metadata": {},
     "output_type": "execute_result"
    }
   ],
   "source": [
    "x_test"
   ]
  },
  {
   "cell_type": "markdown",
   "id": "4e7aba96",
   "metadata": {},
   "source": [
    "### Vectorization"
   ]
  },
  {
   "cell_type": "code",
   "execution_count": 26,
   "id": "59051ca5",
   "metadata": {},
   "outputs": [],
   "source": [
    "tf = TfidfVectorizer()\n",
    "x_train_tf = tf.fit_transform(x_train)\n",
    "x_test_tf = tf.transform(x_test)"
   ]
  },
  {
   "cell_type": "markdown",
   "id": "f1355ab8",
   "metadata": {},
   "source": [
    "### Classfication model"
   ]
  },
  {
   "cell_type": "code",
   "execution_count": 27,
   "id": "27ecd7ba",
   "metadata": {},
   "outputs": [],
   "source": [
    "from sklearn.tree import DecisionTreeClassifier"
   ]
  },
  {
   "cell_type": "code",
   "execution_count": 28,
   "id": "c43a2f4c",
   "metadata": {},
   "outputs": [],
   "source": [
    "model = DecisionTreeClassifier()\n",
    "model.fit(x_train_tf,y_train)\n",
    "\n",
    "y_pred = model.predict(x_test_tf)"
   ]
  },
  {
   "cell_type": "code",
   "execution_count": 29,
   "id": "8880774a",
   "metadata": {},
   "outputs": [
    {
     "name": "stdout",
     "output_type": "stream",
     "text": [
      "[2 2 0 ... 1 1 2]\n"
     ]
    }
   ],
   "source": [
    "print(y_pred)"
   ]
  },
  {
   "cell_type": "code",
   "execution_count": 30,
   "id": "bf525de7",
   "metadata": {},
   "outputs": [],
   "source": [
    "from sklearn.metrics import classification_report"
   ]
  },
  {
   "cell_type": "code",
   "execution_count": 31,
   "id": "064f7873",
   "metadata": {},
   "outputs": [
    {
     "name": "stdout",
     "output_type": "stream",
     "text": [
      "              precision    recall  f1-score   support\n",
      "\n",
      "           0       0.93      0.92      0.92      1221\n",
      "           1       0.95      0.95      0.95      1145\n",
      "           2       0.97      0.96      0.96      1210\n",
      "           3       0.95      0.97      0.96      1224\n",
      "\n",
      "    accuracy                           0.95      4800\n",
      "   macro avg       0.95      0.95      0.95      4800\n",
      "weighted avg       0.95      0.95      0.95      4800\n",
      "\n"
     ]
    }
   ],
   "source": [
    "print(classification_report(y_test,y_pred))"
   ]
  },
  {
   "cell_type": "code",
   "execution_count": 32,
   "id": "c191cc19",
   "metadata": {},
   "outputs": [
    {
     "name": "stdout",
     "output_type": "stream",
     "text": [
      "[3]\n"
     ]
    }
   ],
   "source": [
    "msg = [\"Contrast Living Modern\"]\n",
    "msg_tf = tf.transform(msg)\n",
    "print(model.predict(msg_tf))"
   ]
  }
 ],
 "metadata": {
  "kernelspec": {
   "display_name": ".venv",
   "language": "python",
   "name": "python3"
  },
  "language_info": {
   "codemirror_mode": {
    "name": "ipython",
    "version": 3
   },
   "file_extension": ".py",
   "mimetype": "text/x-python",
   "name": "python",
   "nbconvert_exporter": "python",
   "pygments_lexer": "ipython3",
   "version": "3.12.7"
  }
 },
 "nbformat": 4,
 "nbformat_minor": 5
}
